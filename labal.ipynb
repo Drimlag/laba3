{
 "cells": [
  {
   "cell_type": "code",
   "execution_count": 6,
   "metadata": {},
   "outputs": [
    {
     "name": "stdout",
     "output_type": "stream",
     "text": [
      "Це є початкова функція : <function my_nick at 0x00000109195397E0>\n",
      "Запускаємо функцію: Мій нік Drimlag використаний для ігор  D\n",
      "Це є початкова функція: <function <lambda> at 0x0000010919167EB0>\n",
      "Запускаємо функцію: МSй нік Drimlag використаний для ігор  D\n"
     ]
    }
   ],
   "source": [
    "def my_nick(first, last):\n",
    "    return f\"Мій нік {first} використаний для ігор  {last}\"\n",
    "\n",
    "print(\"Це є початкова функція :\", my_nick)\n",
    "print(\"Запускаємо функцію:\", my_nick(\"Drimlag\", \"D\"))\n",
    "\n",
    "this_is_lambda = lambda first, last: f\"МSй нік {first} використаний для ігор  {last}\"\n",
    "print(\"Це є початкова функція:\", this_is_lambda)\n",
    "print(\"Запускаємо функцію:\", this_is_lambda('Drimlag', 'D'))"
   ]
  }
 ],
 "metadata": {
  "kernelspec": {
   "display_name": "Python 3.10.8 64-bit (microsoft store)",
   "language": "python",
   "name": "python3"
  },
  "language_info": {
   "codemirror_mode": {
    "name": "ipython",
    "version": 3
   },
   "file_extension": ".py",
   "mimetype": "text/x-python",
   "name": "python",
   "nbconvert_exporter": "python",
   "pygments_lexer": "ipython3",
   "version": "3.10.8"
  },
  "orig_nbformat": 4,
  "vscode": {
   "interpreter": {
    "hash": "66f804da07f0f556d77bc3269dc5bb19edf020422864031af2885e5ff55f9079"
   }
  }
 },
 "nbformat": 4,
 "nbformat_minor": 2
}
